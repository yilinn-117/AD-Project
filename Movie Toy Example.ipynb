{
 "cells": [
  {
   "cell_type": "code",
   "execution_count": 3,
   "metadata": {},
   "outputs": [
    {
     "name": "stdout",
     "output_type": "stream",
     "text": [
      "[[1999.9 3999.9 2000.  4000. ]\n",
      " [1999.9 3999.7 2000.  3999.7]\n",
      " [2000.  3999.8 1999.8 3999.5]]\n",
      "[7999.70000001 7999.20000001 7999.00000001]\n",
      "[2000. 4000. 2000. 4000.]\n"
     ]
    }
   ],
   "source": [
    "import numpy as np\n",
    "\n",
    "# Sigmoid function\n",
    "def sigmoid(x):\n",
    "    return 1 / (1 + np.exp(-x))\n",
    "\n",
    "# four movies\n",
    "node_visible = 4\n",
    "\n",
    "# three genres\n",
    "node_hidden = 3\n",
    "\n",
    "# decide how much to update weight/bias each step\n",
    "learning_rate = 0.1\n",
    "\n",
    "# Initialize weights/bias\n",
    "# weight = interaction\n",
    "#[W_11,W_21,W_31,W_41] ->genre 1\n",
    "#[W_12,W_22,W_32,W_42] ->genre 2\n",
    "#[W_13,W_23,W_33,W_43] ->genre 3\n",
    "# mov1,mov2,mov3,mov4\n",
    "\n",
    "W = np.full((node_hidden,node_visible),0.1)\n",
    "\n",
    "# bias = score for each individual node\n",
    "visible_bias = np.zeros(node_visible)\n",
    "hidden_bias = np.zeros(node_hidden)\n",
    "\n",
    "# Training data\n",
    "train_set = np.array([[1, 0, 0, 0], [0, 1, 0, 0], [0, 0, 1, 0], [0, 0, 0, 1],[1, 1, 0, 0], [0, 1, 0, 1], [0, 1, 1, 1], [0, 0, 0, 1]])\n",
    "\n",
    "iteration = 10000\n",
    "\n",
    "for i in range(iteration):\n",
    "    for scenario in train_set:\n",
    "\n",
    "        # contrastive divergence\n",
    "        # increase existing pattern's probability\n",
    "            # use gibb's sampling\n",
    "            # choose a possible scenario matching current scenario:\n",
    "        hidden_prob = np.sum(W*scenario,axis = 1)\n",
    "        chosen_hidden = [np.random.binomial(1, sigmoid(hidden_bias[0]+hidden_prob[0])),np.random.binomial(1, sigmoid(hidden_bias[1]+hidden_prob[1])),np.random.binomial(1, sigmoid(hidden_bias[2]+hidden_prob[2]))]\n",
    "        \n",
    "        # decrease a random pattern's probability\n",
    "        # random decrease 还没做完捏\n",
    "        #neg_scenario = [np.random.binomial(1,.5),np.random.binomial(1,.5),np.random.binomial(1,.5),np.random.binomial(1,.5)]\n",
    "        #neg_hidden = [np.random.binomial(1,.5),np.random.binomial(1,.5),np.random.binomial(1,.5)]\n",
    "\n",
    "        # update bias/weight according to scenario chosen\n",
    "        for i in range(len(scenario)):\n",
    "            if scenario[i] == 1:\n",
    "                visible_bias[i] += learning_rate\n",
    "            #if neg_scenario[i] == 1:\n",
    "                #visible_bias[i] -= learning_rate\n",
    "            for j in range(len(chosen_hidden)):\n",
    "                if scenario[i] == 1 and chosen_hidden[j] == 1:\n",
    "                    W[j,i] += learning_rate\n",
    "                #if neg_scenario[i] == 1 and neg_hidden[j] == 1:\n",
    "                    #W[j,i] -= learning_rate\n",
    "\n",
    "        for j in range(len(chosen_hidden)):\n",
    "            if chosen_hidden[j] == 1:\n",
    "                hidden_bias[j] += learning_rate\n",
    "            #if neg_hidden[j] == 1:\n",
    "                #hidden_bias[j] -= learning_rate\n",
    "\n",
    "        \n",
    "\n",
    "print (W)\n",
    "print(hidden_bias)\n",
    "print(visible_bias)\n"
   ]
  }
 ],
 "metadata": {
  "kernelspec": {
   "display_name": "Python 3",
   "language": "python",
   "name": "python3"
  },
  "language_info": {
   "codemirror_mode": {
    "name": "ipython",
    "version": 3
   },
   "file_extension": ".py",
   "mimetype": "text/x-python",
   "name": "python",
   "nbconvert_exporter": "python",
   "pygments_lexer": "ipython3",
   "version": "3.11.4"
  }
 },
 "nbformat": 4,
 "nbformat_minor": 2
}
